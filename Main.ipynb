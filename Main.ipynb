{
  "cells": [
    {
      "cell_type": "markdown",
      "metadata": {
        "id": "view-in-github",
        "colab_type": "text"
      },
      "source": [
        "<a href=\"https://colab.research.google.com/github/karandomguy/PhishGuard/blob/dev/Main.ipynb\" target=\"_parent\"><img src=\"https://colab.research.google.com/assets/colab-badge.svg\" alt=\"Open In Colab\"/></a>"
      ]
    },
    {
      "cell_type": "code",
      "execution_count": 1,
      "metadata": {
        "id": "rWc5Y2MpdF8T",
        "colab": {
          "base_uri": "https://localhost:8080/"
        },
        "outputId": "f1922a48-3646-42bc-d320-cf85b219bb0e"
      },
      "outputs": [
        {
          "output_type": "stream",
          "name": "stdout",
          "text": [
            "Mounted at /content/gdrive\n"
          ]
        }
      ],
      "source": [
        "from google.colab import drive\n",
        "drive.mount('/content/gdrive')"
      ]
    },
    {
      "cell_type": "code",
      "execution_count": 2,
      "metadata": {
        "id": "Hoa-UezaOAjH",
        "colab": {
          "base_uri": "https://localhost:8080/"
        },
        "outputId": "b89df7fd-7415-4957-e312-f3c8ea7cf7f9"
      },
      "outputs": [
        {
          "output_type": "stream",
          "name": "stdout",
          "text": [
            "Collecting patool\n",
            "  Downloading patool-1.15.0-py2.py3-none-any.whl (91 kB)\n",
            "\u001b[?25l     \u001b[90m━━━━━━━━━━━━━━━━━━━━━━━━━━━━━━━━━━━━━━━━\u001b[0m \u001b[32m0.0/91.1 kB\u001b[0m \u001b[31m?\u001b[0m eta \u001b[36m-:--:--\u001b[0m\r\u001b[2K     \u001b[90m━━━━━━━━━━━━━━━━━━━━━━━━━━━━━━━━━━━━━━━━\u001b[0m \u001b[32m91.1/91.1 kB\u001b[0m \u001b[31m2.7 MB/s\u001b[0m eta \u001b[36m0:00:00\u001b[0m\n",
            "\u001b[?25hInstalling collected packages: patool\n",
            "Successfully installed patool-1.15.0\n"
          ]
        }
      ],
      "source": [
        "!pip install patool"
      ]
    },
    {
      "cell_type": "code",
      "execution_count": 3,
      "metadata": {
        "id": "yI8BM838O1Nn",
        "colab": {
          "base_uri": "https://localhost:8080/",
          "height": 89
        },
        "outputId": "ca212c13-5ef2-43e8-9f2a-e5acdc17e9f1"
      },
      "outputs": [
        {
          "output_type": "stream",
          "name": "stdout",
          "text": [
            "patool: Extracting /content/gdrive/MyDrive/phishing_url_model.zip ...\n",
            "patool: running /usr/bin/7z x -o./Unpack_5zliufn1 -- /content/gdrive/MyDrive/phishing_url_model.zip\n",
            "patool: ... /content/gdrive/MyDrive/phishing_url_model.zip extracted to `best_pipeline_url.pkl'.\n"
          ]
        },
        {
          "output_type": "execute_result",
          "data": {
            "text/plain": [
              "'best_pipeline_url.pkl'"
            ],
            "application/vnd.google.colaboratory.intrinsic+json": {
              "type": "string"
            }
          },
          "metadata": {},
          "execution_count": 3
        }
      ],
      "source": [
        "import patoolib as pl\n",
        "pl.extract_archive(\"/content/gdrive/MyDrive/phishing_url_model.zip\")"
      ]
    },
    {
      "cell_type": "code",
      "execution_count": 4,
      "metadata": {
        "id": "HKGtKaCxeTWe",
        "colab": {
          "base_uri": "https://localhost:8080/"
        },
        "outputId": "5725857e-16fb-4571-96df-afe06c12c751"
      },
      "outputs": [
        {
          "output_type": "stream",
          "name": "stdout",
          "text": [
            "/content/gdrive/MyDrive\n"
          ]
        }
      ],
      "source": [
        "%cd /content/gdrive/MyDrive/\n",
        "!cp best_pipeline_tfidf.pkl /content/\n"
      ]
    },
    {
      "cell_type": "code",
      "execution_count": 5,
      "metadata": {
        "id": "A7Cvx7M4Lk6i"
      },
      "outputs": [],
      "source": [
        "import re\n",
        "\n",
        "def check_url(text):\n",
        "    url_pattern = \"[-a-zA-Z0-9@:%._\\\\+~#=]{1,256}\\\\.[a-zA-Z0-9()]{1,6}\\\\b(?:[-a-zA-Z0-9()@:%_\\\\+.~#?&\\\\/=]*)\"\n",
        "    urls = re.findall(url_pattern, text)\n",
        "    return urls"
      ]
    },
    {
      "cell_type": "code",
      "execution_count": 6,
      "metadata": {
        "id": "CM7eOR1NMvFV"
      },
      "outputs": [],
      "source": [
        "from urllib.parse import urlparse\n",
        "from googlesearch import search\n",
        "\n",
        "def having_ip_address(url):\n",
        "    match = re.search(\n",
        "        '(([01]?\\d\\d?|2[0-4]\\d|25[0-5])\\.([01]?\\d\\d?|2[0-4]\\d|25[0-5])\\.([01]?\\d\\d?|2[0-4]\\d|25[0-5])\\.'\n",
        "        '([01]?\\d\\d?|2[0-4]\\d|25[0-5])\\/)|'  # IPv4\n",
        "        '((0x[0-9a-fA-F]{1,2})\\.(0x[0-9a-fA-F]{1,2})\\.(0x[0-9a-fA-F]{1,2})\\.(0x[0-9a-fA-F]{1,2})\\/)' # IPv4 in hexadecimal\n",
        "        '(?:[a-fA-F0-9]{1,4}:){7}[a-fA-F0-9]{1,4}', url)  # Ipv6\n",
        "    if match:\n",
        "        # print match.group()\n",
        "        return 1\n",
        "    else:\n",
        "        # print 'No matching pattern found'\n",
        "        return 0\n",
        "\n",
        "def abnormal_url(url):\n",
        "    hostname = urlparse(url).hostname\n",
        "    hostname = str(hostname)\n",
        "    match = re.search(hostname, url)\n",
        "    if match:\n",
        "        # print match.group()\n",
        "        return 1\n",
        "    else:\n",
        "        # print 'No matching pattern found'\n",
        "        return 0\n",
        "\n",
        "def google_index(url):\n",
        "    site = search(url, 5)\n",
        "    return 1 if site else 0\n",
        "\n",
        "def count_dot(url):\n",
        "    count_dot = url.count('.')\n",
        "    return count_dot\n",
        "\n",
        "def count_www(url):\n",
        "    url.count('www')\n",
        "    return url.count('www')\n",
        "\n",
        "def count_atrate(url):\n",
        "    return url.count('@')\n",
        "\n",
        "def no_of_dir(url):\n",
        "    urldir = urlparse(url).path\n",
        "    return urldir.count('/')\n",
        "\n",
        "def no_of_embed(url):\n",
        "    urldir = urlparse(url).path\n",
        "    return urldir.count('//')\n",
        "\n",
        "def shortening_service(url):\n",
        "    match = re.search('bit\\.ly|goo\\.gl|shorte\\.st|go2l\\.ink|x\\.co|ow\\.ly|t\\.co|tinyurl|tr\\.im|is\\.gd|cli\\.gs|'\n",
        "                      'yfrog\\.com|migre\\.me|ff\\.im|tiny\\.cc|url4\\.eu|twit\\.ac|su\\.pr|twurl\\.nl|snipurl\\.com|'\n",
        "                      'short\\.to|BudURL\\.com|ping\\.fm|post\\.ly|Just\\.as|bkite\\.com|snipr\\.com|fic\\.kr|loopt\\.us|'\n",
        "                      'doiop\\.com|short\\.ie|kl\\.am|wp\\.me|rubyurl\\.com|om\\.ly|to\\.ly|bit\\.do|t\\.co|lnkd\\.in|'\n",
        "                      'db\\.tt|qr\\.ae|adf\\.ly|goo\\.gl|bitly\\.com|cur\\.lv|tinyurl\\.com|ow\\.ly|bit\\.ly|ity\\.im|'\n",
        "                      'q\\.gs|is\\.gd|po\\.st|bc\\.vc|twitthis\\.com|u\\.to|j\\.mp|buzurl\\.com|cutt\\.us|u\\.bb|yourls\\.org|'\n",
        "                      'x\\.co|prettylinkpro\\.com|scrnch\\.me|filoops\\.info|vzturl\\.com|qr\\.net|1url\\.com|tweez\\.me|v\\.gd|'\n",
        "                      'tr\\.im|link\\.zip\\.net',\n",
        "                      url)\n",
        "    if match:\n",
        "        return 1\n",
        "    else:\n",
        "        return 0\n",
        "\n",
        "def count_https(url):\n",
        "    return url.count('https')\n",
        "\n",
        "def count_http(url):\n",
        "    return url.count('http')\n",
        "\n",
        "def count_per(url):\n",
        "    return url.count('%')\n",
        "\n",
        "def count_ques(url):\n",
        "    return url.count('?')\n",
        "\n",
        "def count_hyphen(url):\n",
        "    return url.count('-')\n",
        "\n",
        "def count_equal(url):\n",
        "    return url.count('=')\n",
        "\n",
        "def url_length(url):\n",
        "    return len(str(url))\n",
        "\n",
        "def hostname_length(url):\n",
        "    return len(urlparse(url).netloc)\n",
        "\n",
        "def suspicious_words(url):\n",
        "    match = re.search('PayPal|login|signin|bank|account|update|free|lucky|service|bonus|ebayisapi|webscr',\n",
        "                      url)\n",
        "    if match:\n",
        "        return 1\n",
        "    else:\n",
        "        return 0\n",
        "\n",
        "def digit_count(url):\n",
        "    digits = 0\n",
        "    for i in url:\n",
        "        if i.isnumeric():\n",
        "            digits = digits + 1\n",
        "    return digits\n",
        "\n",
        "def letter_count(url):\n",
        "    letters = 0\n",
        "    for i in url:\n",
        "        if i.isalpha():\n",
        "            letters = letters + 1\n",
        "    return letters\n"
      ]
    },
    {
      "cell_type": "code",
      "source": [
        "!pip install tld"
      ],
      "metadata": {
        "id": "1x_W-Ufb5YKP",
        "colab": {
          "base_uri": "https://localhost:8080/"
        },
        "outputId": "85c023af-7904-4b63-b7f5-9cb37278013f"
      },
      "execution_count": 7,
      "outputs": [
        {
          "output_type": "stream",
          "name": "stdout",
          "text": [
            "Collecting tld\n",
            "  Downloading tld-0.13-py2.py3-none-any.whl (263 kB)\n",
            "\u001b[?25l     \u001b[90m━━━━━━━━━━━━━━━━━━━━━━━━━━━━━━━━━━━━━━━━\u001b[0m \u001b[32m0.0/263.8 kB\u001b[0m \u001b[31m?\u001b[0m eta \u001b[36m-:--:--\u001b[0m\r\u001b[2K     \u001b[91m━━━━━━━━━━━━━━━━━\u001b[0m\u001b[90m╺\u001b[0m\u001b[90m━━━━━━━━━━━━━━━━━━━━━━\u001b[0m \u001b[32m112.6/263.8 kB\u001b[0m \u001b[31m3.6 MB/s\u001b[0m eta \u001b[36m0:00:01\u001b[0m\r\u001b[2K     \u001b[90m━━━━━━━━━━━━━━━━━━━━━━━━━━━━━━━━━━━━━━━━\u001b[0m \u001b[32m263.8/263.8 kB\u001b[0m \u001b[31m4.5 MB/s\u001b[0m eta \u001b[36m0:00:00\u001b[0m\n",
            "\u001b[?25hInstalling collected packages: tld\n",
            "Successfully installed tld-0.13\n"
          ]
        }
      ]
    },
    {
      "cell_type": "code",
      "source": [
        "from urllib.parse import urlparse\n",
        "from tld import get_tld\n",
        "import os.path\n",
        "\n",
        "def fd_length(url):\n",
        "    urlpath= urlparse(url).path\n",
        "    try:\n",
        "        return len(urlpath.split('/')[1])\n",
        "    except:\n",
        "        return 0\n",
        "\n",
        "def get_tld_length(url):\n",
        "    try:\n",
        "        tld = get_tld(url, fail_silently=True)\n",
        "        return len(tld)\n",
        "    except:\n",
        "        return -1"
      ],
      "metadata": {
        "id": "LYLlpvvZ5On1"
      },
      "execution_count": 8,
      "outputs": []
    },
    {
      "cell_type": "code",
      "execution_count": 9,
      "metadata": {
        "id": "grpzPEnnQdCn"
      },
      "outputs": [],
      "source": [
        "def feature_extractor(url):\n",
        "    features = []\n",
        "\n",
        "    # Feature 1: Having IP Address\n",
        "    ip_address_feature = having_ip_address(url)\n",
        "    features.append(ip_address_feature)\n",
        "\n",
        "    # Feature 2: Abnormal URL\n",
        "    abnormal_url_feature=abnormal_url(url)\n",
        "    features.append(abnormal_url_feature)\n",
        "\n",
        "    # Feature 3: Count Dot\n",
        "    dot_count_feature = count_dot(url)\n",
        "    features.append(dot_count_feature)\n",
        "\n",
        "    # Feature 4: Count www\n",
        "    www_count_feature = count_www(url)\n",
        "    features.append(www_count_feature)\n",
        "\n",
        "    # Feature 5: Count @\n",
        "    at_count_feature = count_atrate(url)\n",
        "    features.append(at_count_feature)\n",
        "\n",
        "    # Feature 6: Number of Directories\n",
        "    dir_count_feature = no_of_dir(url)\n",
        "    features.append(dir_count_feature)\n",
        "\n",
        "    # Feature 7: Number of Embedded Directories\n",
        "    embed_dir_count_feature = no_of_embed(url)\n",
        "    features.append(embed_dir_count_feature)\n",
        "\n",
        "    # Feature 8: Shortening Service\n",
        "    shortening_service_feature = shortening_service(url)\n",
        "    features.append(shortening_service_feature)\n",
        "\n",
        "    # Feature 9: Count 'https'\n",
        "    count_https_feature = count_https(url)\n",
        "    features.append(count_https_feature)\n",
        "\n",
        "    # Feature 10: Count 'http'\n",
        "    count_http_feature = count_http(url)\n",
        "    features.append(count_http_feature)\n",
        "\n",
        "    # Feature 11: Count '%'\n",
        "    count_per_feature = count_per(url)\n",
        "    features.append(count_per_feature)\n",
        "\n",
        "    # Feature 12: Count '?'\n",
        "    count_ques_feature = count_ques(url)\n",
        "    features.append(count_ques_feature)\n",
        "\n",
        "    # Feature 13: Count '-'\n",
        "    count_hyphen_feature = count_hyphen(url)\n",
        "    features.append(count_hyphen_feature)\n",
        "\n",
        "    # Feature 14: Count '='\n",
        "    count_equal_feature = count_equal(url)\n",
        "    features.append(count_equal_feature)\n",
        "\n",
        "    # Feature 15: URL Length\n",
        "    url_length_feature = url_length(url)\n",
        "    features.append(url_length_feature)\n",
        "\n",
        "    # Feature 16: Hostname Length\n",
        "    hostname_length_feature = hostname_length(url)\n",
        "    features.append(hostname_length_feature)\n",
        "\n",
        "    # Feature 17: Suspicious Words\n",
        "    suspicious_words_feature = suspicious_words(url)\n",
        "    features.append(suspicious_words_feature)\n",
        "\n",
        "    # Feature 18: Digit Count\n",
        "    digit_count_feature = digit_count(url)\n",
        "    features.append(digit_count_feature)\n",
        "\n",
        "    # Feature 19: Letter Count\n",
        "    letter_count_feature = letter_count(url)\n",
        "    features.append(letter_count_feature)\n",
        "\n",
        "    # Feature 20: FD Length\n",
        "    fd_length_feature = fd_length(url)\n",
        "    features.append(fd_length_feature)\n",
        "\n",
        "    # Feature 21: TLD Length\n",
        "    tld_length_feature = get_tld_length(url)\n",
        "    features.append(tld_length_feature)\n",
        "\n",
        "    return features"
      ]
    },
    {
      "cell_type": "code",
      "execution_count": 10,
      "metadata": {
        "id": "iz1Y04OTRKjt"
      },
      "outputs": [],
      "source": [
        "import joblib\n",
        "\n",
        "def get_prediction(url, model_path):\n",
        "\n",
        "    model = joblib.load(model_path)\n",
        "    url_features = feature_extractor(url)\n",
        "    prediction = model.predict([url_features])\n",
        "    phishing=url+ \": Phishing\"\n",
        "    benign=url+ \": Benign\"\n",
        "    if prediction[0]==1:\n",
        "      return phishing\n",
        "    else:\n",
        "      return benign\n",
        "    #print(\"There is\", i, \"% chance that this URL is malicious!\")\n"
      ]
    },
    {
      "cell_type": "code",
      "execution_count": 11,
      "metadata": {
        "id": "iCUTdalbjTA0"
      },
      "outputs": [],
      "source": [
        "model_path = r\"/content/best_pipeline_url.pkl\"\n",
        "\n",
        "def url_predict(url):\n",
        "  prediction = get_prediction(url,model_path)\n",
        "  print(prediction)"
      ]
    },
    {
      "cell_type": "code",
      "source": [
        "import joblib\n",
        "\n",
        "best_pipeline = joblib.load('best_pipeline_tfidf.pkl')\n"
      ],
      "metadata": {
        "id": "IrNpqt1p7jF3"
      },
      "execution_count": 12,
      "outputs": []
    },
    {
      "cell_type": "code",
      "source": [
        "import joblib\n",
        "from sklearn.feature_extraction.text import TfidfVectorizer\n",
        "import nltk\n",
        "from nltk.corpus import stopwords\n",
        "from nltk.tokenize import word_tokenize\n",
        "\n",
        "nltk.download('stopwords')\n",
        "nltk.download('punkt')\n",
        "stop_words = set(stopwords.words('english'))\n",
        "email_pipeline = joblib.load('best_pipeline_tfidf.pkl')\n",
        "def preprocess(text):\n",
        "      words = word_tokenize(text)\n",
        "      no_stop_words = [word for word in words if word.isalpha() and word.lower() not in stop_words]\n",
        "      return ' '.join(no_stop_words)\n",
        "\n",
        "def preprocess_email(email_text):\n",
        "\n",
        "  # Preprocess the text\n",
        "  preprocessed_email = preprocess(email_text)\n",
        "  preprocessed_email=preprocessed_email.lower()\n",
        "  return preprocessed_email\n",
        "print(stop_words)\n"
      ],
      "metadata": {
        "id": "DWxGHsOJB1iR",
        "colab": {
          "base_uri": "https://localhost:8080/"
        },
        "outputId": "0bf514a3-2b5c-4f55-b0ed-127388ceec63"
      },
      "execution_count": 13,
      "outputs": [
        {
          "output_type": "stream",
          "name": "stderr",
          "text": [
            "[nltk_data] Downloading package stopwords to /root/nltk_data...\n",
            "[nltk_data]   Unzipping corpora/stopwords.zip.\n",
            "[nltk_data] Downloading package punkt to /root/nltk_data...\n",
            "[nltk_data]   Unzipping tokenizers/punkt.zip.\n"
          ]
        },
        {
          "output_type": "stream",
          "name": "stdout",
          "text": [
            "{'s', 'through', 'by', 'are', 'was', \"don't\", 'mustn', \"should've\", 'from', 'now', 'over', 'ours', \"isn't\", 'where', 'no', 'your', 'while', 'if', 'they', 'has', 'been', 'there', \"it's\", \"won't\", 'himself', 'any', 'should', 'few', 'ain', 'than', \"doesn't\", 'mightn', 'is', \"wouldn't\", 'during', 'him', \"wasn't\", \"didn't\", 'aren', 'how', 'which', 'when', 'ma', 'you', 'it', 'won', 'on', 'these', 'm', 're', 'me', 'does', 'under', 'shouldn', 'our', 'their', 'too', \"mustn't\", \"she's\", 'below', 'those', 'only', 'weren', \"you've\", \"haven't\", 'do', 'didn', \"that'll\", 'herself', 'yours', 'down', \"shan't\", 'of', 'did', 'he', 'can', 'that', \"hasn't\", 'itself', 'o', 'a', 'both', 'its', \"hadn't\", 'wasn', 't', 'haven', 'theirs', 'such', 'once', 'against', 'some', 'all', 'shan', 'doesn', 'am', 'themselves', 'off', 'own', 'for', 'so', 'hasn', 'in', \"couldn't\", 'an', 'whom', 'd', 'hers', 'because', 'then', 've', 'as', 'after', 'we', 'and', 'more', 'yourself', 'not', \"weren't\", 'don', 'until', 'between', \"you'll\", 'same', 'or', 'she', 'other', 'her', 'the', 'doing', 'my', 'this', 'what', 'before', 'why', 'to', 'up', 'his', 'with', 'being', 'will', 'them', 'but', 'above', 'again', 'couldn', 'ourselves', 'into', 'out', 'about', 'wouldn', 'at', 'll', 'needn', 'isn', 'very', \"aren't\", 'hadn', 'who', \"needn't\", 'yourselves', 'here', 'were', 'y', 'further', \"you'd\", 'nor', \"mightn't\", 'myself', 'having', 'each', 'just', 'have', \"shouldn't\", 'most', 'be', 'had', \"you're\", 'i'}\n"
          ]
        }
      ]
    },
    {
      "cell_type": "code",
      "source": [
        "def email_predict(email_text):\n",
        "  predicted_label = email_pipeline.predict([preprocess_email(email_text)])\n",
        "\n",
        "  # Print the predicted label (1 for Safe Email, 0 for Phishing Email)\n",
        "  safe=\"Predicted Label: Safe Email\"\n",
        "  phishy=\"Predicted Label: Phishing Email\"\n",
        "  if predicted_label[0] == '1':\n",
        "    return safe\n",
        "  else:\n",
        "    return phishy"
      ],
      "metadata": {
        "id": "EkdDCbJtB3zR"
      },
      "execution_count": 14,
      "outputs": []
    },
    {
      "cell_type": "code",
      "source": [
        "def final(text):\n",
        "  urls=check_url(text)\n",
        "  if len(urls)==0:\n",
        "    return email_predict(text)\n",
        "  else:\n",
        "    print(email_predict(text))\n",
        "    print(\"URL Predictions\")\n",
        "    for i in urls:\n",
        "      print(url_predict(i))"
      ],
      "metadata": {
        "id": "ZgVojBKkP_g_"
      },
      "execution_count": 15,
      "outputs": []
    },
    {
      "cell_type": "code",
      "source": [
        "text=input()\n",
        "print(final(text))"
      ],
      "metadata": {
        "id": "NBRDrhxnfCHf",
        "colab": {
          "base_uri": "https://localhost:8080/"
        },
        "outputId": "574defa0-a3cd-4e9c-828e-62f5b7c74dfd"
      },
      "execution_count": 17,
      "outputs": [
        {
          "output_type": "stream",
          "name": "stdout",
          "text": [
            "**Enroll in a Stanford Graduate Course**  No matter where you are, you can become a Stanford student by enrolling in an [online graduate course](https://eventing.coursera.org/redirectSigned/eyJrZXkiOiJlbWFpbC5saW5rLm9wZW4iLCJ2YWx1ZSI6eyJ1cmwiOiJodHRwczovL29ubGluZS5zdGFuZm9yZC5lZHUvd2hhdC15b3UtbmVlZC1rbm93LWFib3V0LW9ubGluZS1ncmFkdWF0ZS1jb3Vyc2VzP3V0bV9zb3VyY2U9Q291cnNlcmEmdXRtX21lZGl1bT1lbWFpbCZ1dG1fY2FtcGFpZ249V2ludGVyMjRfR3JhZEVucm9sbG1lbnQiLCJ0cmFja2luZyI6eyJ1c2VySWQiOjk1MTc3NDYzLCJ1c2VyRW1haWwiOiJrYXJhbmIxMzE0QGdtYWlsLmNvbSIsIm5vdGlmaWNhdGlvblR5cGUiOiJvcGVuY291cnNlLnRhcmdldGVkbWVzc2FnZXMubWFya2V0aW5nIiwiY2FtcGFpZ25JZCI6InBhcnRuZXIuMS5ib2lGS3RyZVR4YXZ2YTRYV1dDdzh3IiwiY2FtcGFpZ25Hcm91cCI6InBhcnRuZXIuMS5vcGVuY291cnNlLnRhcmdldGVkbWVzc2FnZXMubWFya2V0aW5nIiwibGlua3MiOltdfX0sInVzZXJJZCI6OTUxNzc0NjN9.PA-FbUAR44_u0bgoUzTIbSpqCtS4YDDKX4WZsssyUaI). Join thousands of learners from around the world who have advanced their careers and accomplished their goals with courses for credit from Stanford. Curious what our courses are like? Experience them firsthand by streaming full graduate course lectures on our [YouTube channel](https://eventing.coursera.org/redirectSigned/eyJrZXkiOiJlbWFpbC5saW5rLm9wZW4iLCJ2YWx1ZSI6eyJ1cmwiOiJodHRwczovL3d3dy55b3V0dWJlLmNvbS9Ac3RhbmZvcmRvbmxpbmUvcGxheWxpc3RzP3ZpZXc9NTAmc29ydD1kZCZzaGVsZl9pZD0zP3V0bV9zb3VyY2UlM0RDb3Vyc2VyYSZ1dG1fbWVkaXVtPWVtYWlsJnV0bV9jYW1wYWlnbj1XaW50ZXIyNF9HcmFkRW5yb2xsbWVudCZ1dG1fc291cmNlPW90aGVyIiwidHJhY2tpbmciOnsidXNlcklkIjo5NTE3NzQ2MywidXNlckVtYWlsIjoia2FyYW5iMTMxNEBnbWFpbC5jb20iLCJub3RpZmljYXRpb25UeXBlIjoib3BlbmNvdXJzZS50YXJnZXRlZG1lc3NhZ2VzLm1hcmtldGluZyIsImNhbXBhaWduSWQiOiJwYXJ0bmVyLjEuYm9pRkt0cmVUeGF2dmE0WFdXQ3c4dyIsImNhbXBhaWduR3JvdXAiOiJwYXJ0bmVyLjEub3BlbmNvdXJzZS50YXJnZXRlZG1lc3NhZ2VzLm1hcmtldGluZyIsImxpbmtzIjpbXX19LCJ1c2VySWQiOjk1MTc3NDYzfQ.oAVFT1uRXTA_-LhTMG1BTSL3xiIJ9Z77vaa3vJ4xdyQ).  **Take The Same Courses As Students On Campus**  Choose from courses in engineering, computer science, cybersecurity, artificial intelligence, data science, business and management, health & medicine, and more.   - Watch recordings or live streams of lectures from on-campus classrooms      - Join online office hours, complete homework and take exams remotely      - Earn a Stanford University transcript and academic credit for every course you complete      - Complete a graduate certificate in as little as 1 year      - Transfer up to 18 credit units to an applicable master’s degree (if admitted)        [Choose Your Course for Winter >>](https://eventing.coursera.org/redirectSigned/eyJrZXkiOiJlbWFpbC5saW5rLm9wZW4iLCJ2YWx1ZSI6eyJ1cmwiOiJodHRwczovL29ubGluZS5zdGFuZm9yZC5lZHUvZXhwbG9yZT9maWx0ZXIlNUIwJTVEPWF2YWlsYWJpbGl0eTphdmFpbGFibGUmZmlsdGVyJTVCMSU1RD1jcmVkZW50aWFsczoxMTI0Jml0ZW1zX3Blcl9wYWdlPTEyJmtleXdvcmRzPSZ1dG1fc291cmNlPUNvdXJzZXJhJnV0bV9tZWRpdW09ZW1haWwmdXRtX2NhbXBhaWduPVdpbnRlcjI0X0dyYWRFbnJvbGxtZW50IiwidHJhY2tpbmciOnsidXNlcklkIjo5NTE3NzQ2MywidXNlckVtYWlsIjoia2FyYW5iMTMxNEBnbWFpbC5jb20iLCJub3RpZmljYXRpb25UeXBlIjoib3BlbmNvdXJzZS50YXJnZXRlZG1lc3NhZ2VzLm1hcmtldGluZyIsImNhbXBhaWduSWQiOiJwYXJ0bmVyLjEuYm9pRkt0cmVUeGF2dmE0WFdXQ3c4dyIsImNhbXBhaWduR3JvdXAiOiJwYXJ0bmVyLjEub3BlbmNvdXJzZS50YXJnZXRlZG1lc3NhZ2VzLm1hcmtldGluZyIsImxpbmtzIjpbXX19LCJ1c2VySWQiOjk1MTc3NDYzfQ.hvfFC5sxRmlKzXpoIO8OY-FUyr8UqabA-p8YhooY_S0)   **Featured Courses and Webinars**  _Course - Machine Learning_  This course provides a broad introduction to machine learning and statistical pattern recognition. You will learn about both supervised and unsupervised learning as well as learning theory, reinforcement learning and control. Explore recent applications of machine learning and design and develop algorithms for machines.   [Learn More and Enroll >>](https://eventing.coursera.org/redirectSigned/eyJrZXkiOiJlbWFpbC5saW5rLm9wZW4iLCJ2YWx1ZSI6eyJ1cmwiOiJodHRwczovL29ubGluZS5zdGFuZm9yZC5lZHUvY291cnNlcy9jczIyOS1tYWNoaW5lLWxlYXJuaW5nP3V0bV9zb3VyY2U9Q291cnNlcmEmdXRtX21lZGl1bT1lbWFpbCZ1dG1fY2FtcGFpZ249V2ludGVyMjRfR3JhZEVucm9sbG1lbnQiLCJ0cmFja2luZyI6eyJ1c2VySWQiOjk1MTc3NDYzLCJ1c2VyRW1haWwiOiJrYXJhbmIxMzE0QGdtYWlsLmNvbSIsIm5vdGlmaWNhdGlvblR5cGUiOiJvcGVuY291cnNlLnRhcmdldGVkbWVzc2FnZXMubWFya2V0aW5nIiwiY2FtcGFpZ25JZCI6InBhcnRuZXIuMS5ib2lGS3RyZVR4YXZ2YTRYV1dDdzh3IiwiY2FtcGFpZ25Hcm91cCI6InBhcnRuZXIuMS5vcGVuY291cnNlLnRhcmdldGVkbWVzc2FnZXMubWFya2V0aW5nIiwibGlua3MiOltdfX0sInVzZXJJZCI6OTUxNzc0NjN9.8m1k2jZDUHtW9TzooNAI_TxOUGNcHusNlTElou3zlYw)   _Course - Natural Language Processing with Deep Learning_  The focus is on deep learning approaches: implementing, training, debugging, and extending neural network models for a variety of language understanding tasks. You will progress from word-level and syntactic processing to coreference, question answering and machine translation. For your final project, you will apply a complex neural network model to a large-scale NLP problem.   [Learn More and Enroll >>](https://eventing.coursera.org/redirectSigned/eyJrZXkiOiJlbWFpbC5saW5rLm9wZW4iLCJ2YWx1ZSI6eyJ1cmwiOiJodHRwczovL29ubGluZS5zdGFuZm9yZC5lZHUvY291cnNlcy9jczIyNG4tbmF0dXJhbC1sYW5ndWFnZS1wcm9jZXNzaW5nLWRlZXAtbGVhcm5pbmc_dXRtX3NvdXJjZT1Db3Vyc2VyYSZ1dG1fbWVkaXVtPWVtYWlsJnV0bV9jYW1wYWlnbj1XaW50ZXIyNF9HcmFkRW5yb2xsbWVudCIsInRyYWNraW5nIjp7InVzZXJJZCI6OTUxNzc0NjMsInVzZXJFbWFpbCI6ImthcmFuYjEzMTRAZ21haWwuY29tIiwibm90aWZpY2F0aW9uVHlwZSI6Im9wZW5jb3Vyc2UudGFyZ2V0ZWRtZXNzYWdlcy5tYXJrZXRpbmciLCJjYW1wYWlnbklkIjoicGFydG5lci4xLmJvaUZLdHJlVHhhdnZhNFhXV0N3OHciLCJjYW1wYWlnbkdyb3VwIjoicGFydG5lci4xLm9wZW5jb3Vyc2UudGFyZ2V0ZWRtZXNzYWdlcy5tYXJrZXRpbmciLCJsaW5rcyI6W119fSwidXNlcklkIjo5NTE3NzQ2M30.68gVTdmOl2FbUjl4equJ86FiIQGZQwRkbGTXCLrN-OM)   _Course - Product Management Fundamentals for the Real Economy_  Learn the basics of product management, the product lifecycle, and design a product in a team setting. You will be guided through identifying an opportunity, designing a solution, launching a product, and building a roadmap.   [Learn More and Enroll >>](https://eventing.coursera.org/redirectSigned/eyJrZXkiOiJlbWFpbC5saW5rLm9wZW4iLCJ2YWx1ZSI6eyJ1cmwiOiJodHRwczovL29ubGluZS5zdGFuZm9yZC5lZHUvY291cnNlcy9jZWUyNTAtcHJvZHVjdC1tYW5hZ2VtZW50LWZ1bmRhbWVudGFscy1yZWFsLWVjb25vbXk_dXRtX3NvdXJjZT1Db3Vyc2VyYSZ1dG1fbWVkaXVtPWVtYWlsJnV0bV9jYW1wYWlnbj1XaW50ZXIyNF9HcmFkRW5yb2xsbWVudCIsInRyYWNraW5nIjp7InVzZXJJZCI6OTUxNzc0NjMsInVzZXJFbWFpbCI6ImthcmFuYjEzMTRAZ21haWwuY29tIiwibm90aWZpY2F0aW9uVHlwZSI6Im9wZW5jb3Vyc2UudGFyZ2V0ZWRtZXNzYWdlcy5tYXJrZXRpbmciLCJjYW1wYWlnbklkIjoicGFydG5lci4xLmJvaUZLdHJlVHhhdnZhNFhXV0N3OHciLCJjYW1wYWlnbkdyb3VwIjoicGFydG5lci4xLm9wZW5jb3Vyc2UudGFyZ2V0ZWRtZXNzYWdlcy5tYXJrZXRpbmciLCJsaW5rcyI6W119fSwidXNlcklkIjo5NTE3NzQ2M30.C-YznHozGKC88spbSnrZJBQkBqA8dljsT-fs-7vvTlk)   _Webinar - Demystifying Product Management: Your Questions, Expert Answers_  During this webinar, you’ll get the chance to ask questions live - from the latest tools and techniques to navigating the Product Management landscape. Don’t miss out on the opportunity to gain fresh insights!   [Learn More and Register >>](https://eventing.coursera.org/redirectSigned/eyJrZXkiOiJlbWFpbC5saW5rLm9wZW4iLCJ2YWx1ZSI6eyJ1cmwiOiJodHRwczovL2xlYXJuLnN0YW5mb3JkLmVkdS9RQS1Qcm9kdWN0TWFuYWdlbWVudC5odG1sP3V0bV9zb3VyY2U9Q291cnNlcmEmdXRtX21lZGl1bT1lbWFpbCZ1dG1fY2FtcGFpZ249V2ludGVyMjRfR3JhZEVucm9sbG1lbnQiLCJ0cmFja2luZyI6eyJ1c2VySWQiOjk1MTc3NDYzLCJ1c2VyRW1haWwiOiJrYXJhbmIxMzE0QGdtYWlsLmNvbSIsIm5vdGlmaWNhdGlvblR5cGUiOiJvcGVuY291cnNlLnRhcmdldGVkbWVzc2FnZXMubWFya2V0aW5nIiwiY2FtcGFpZ25JZCI6InBhcnRuZXIuMS5ib2lGS3RyZVR4YXZ2YTRYV1dDdzh3IiwiY2FtcGFpZ25Hcm91cCI6InBhcnRuZXIuMS5vcGVuY291cnNlLnRhcmdldGVkbWVzc2FnZXMubWFya2V0aW5nIiwibGlua3MiOltdfX0sInVzZXJJZCI6OTUxNzc0NjN9.KLAM0k3KgM-7fONOvNt6kFBeknhVOedZbT2-Ct-AXzo)   **Get Personalized Course Recommendations**  Receive an email with Stanford graduate courses that match the topics you’re interested in. Ready?  [Select Your Interests >>](https://eventing.coursera.org/redirectSigned/eyJrZXkiOiJlbWFpbC5saW5rLm9wZW4iLCJ2YWx1ZSI6eyJ1cmwiOiJodHRwczovL2xlYXJuLnN0YW5mb3JkLmVkdS9ncmFkdWF0ZS1jb3Vyc2VzLUxQLmh0bWw_dXRtX3NvdXJjZT1Db3Vyc2VyYSZ1dG1fbWVkaXVtPWVtYWlsJnV0bV9jYW1wYWlnbj1XaW50ZXIyNF9HcmFkRW5yb2xsbWVudCIsInRyYWNraW5nIjp7InVzZXJJZCI6OTUxNzc0NjMsInVzZXJFbWFpbCI6ImthcmFuYjEzMTRAZ21haWwuY29tIiwibm90aWZpY2F0aW9uVHlwZSI6Im9wZW5jb3Vyc2UudGFyZ2V0ZWRtZXNzYWdlcy5tYXJrZXRpbmciLCJjYW1wYWlnbklkIjoicGFydG5lci4xLmJvaUZLdHJlVHhhdnZhNFhXV0N3OHciLCJjYW1wYWlnbkdyb3VwIjoicGFydG5lci4xLm9wZW5jb3Vyc2UudGFyZ2V0ZWRtZXNzYWdlcy5tYXJrZXRpbmciLCJsaW5rcyI6W119fSwidXNlcklkIjo5NTE3NzQ2M30.unVHUrLkeptUMQKQ6yLfzP2WrEhF77wrz_5cScnv_eQ)   [Stanford Online](https://eventing.coursera.org/redirectSigned/eyJrZXkiOiJlbWFpbC5saW5rLm9wZW4iLCJ2YWx1ZSI6eyJ1cmwiOiJodHRwczovL29ubGluZS5zdGFuZm9yZC5lZHUvP3V0bV9zb3VyY2U9Q291cnNlcmEmdXRtX21lZGl1bT1lbWFpbCZ1dG1fY2FtcGFpZ249V2ludGVyMjRfR3JhZEVucm9sbG1lbnQiLCJ0cmFja2luZyI6eyJ1c2VySWQiOjk1MTc3NDYzLCJ1c2VyRW1haWwiOiJrYXJhbmIxMzE0QGdtYWlsLmNvbSIsIm5vdGlmaWNhdGlvblR5cGUiOiJvcGVuY291cnNlLnRhcmdldGVkbWVzc2FnZXMubWFya2V0aW5nIiwiY2FtcGFpZ25JZCI6InBhcnRuZXIuMS5ib2lGS3RyZVR4YXZ2YTRYV1dDdzh3IiwiY2FtcGFpZ25Hcm91cCI6InBhcnRuZXIuMS5vcGVuY291cnNlLnRhcmdldGVkbWVzc2FnZXMubWFya2V0aW5nIiwibGlua3MiOltdfX0sInVzZXJJZCI6OTUxNzc0NjN9.3yeGAnZ75-k63h16MNeppR9gzbodoiU1L1sur0gnSEU) is brought to you by the [Stanford Center for Professional Development](https://eventing.coursera.org/redirectSigned/eyJrZXkiOiJlbWFpbC5saW5rLm9wZW4iLCJ2YWx1ZSI6eyJ1cmwiOiJodHRwczovL3NjcGQuc3RhbmZvcmQuZWR1Lz91dG1fc291cmNlPUNvdXJzZXJhJnV0bV9tZWRpdW09ZW1haWwmdXRtX2NhbXBhaWduPVdpbnRlcjI0X0dyYWRFbnJvbGxtZW50IiwidHJhY2tpbmciOnsidXNlcklkIjo5NTE3NzQ2MywidXNlckVtYWlsIjoia2FyYW5iMTMxNEBnbWFpbC5jb20iLCJub3RpZmljYXRpb25UeXBlIjoib3BlbmNvdXJzZS50YXJnZXRlZG1lc3NhZ2VzLm1hcmtldGluZyIsImNhbXBhaWduSWQiOiJwYXJ0bmVyLjEuYm9pRkt0cmVUeGF2dmE0WFdXQ3c4dyIsImNhbXBhaWduR3JvdXAiOiJwYXJ0bmVyLjEub3BlbmNvdXJzZS50YXJnZXRlZG1lc3NhZ2VzLm1hcmtldGluZyIsImxpbmtzIjpbXX19LCJ1c2VySWQiOjk1MTc3NDYzfQ.AnZ57yBm-Db3hEBEbsjY7a24ezpesXbi2EdbkvVnjH4) .\n",
            "Predicted Label: Safe Email\n",
            "URL Predictions\n"
          ]
        },
        {
          "output_type": "stream",
          "name": "stderr",
          "text": [
            "/usr/local/lib/python3.10/dist-packages/sklearn/base.py:439: UserWarning: X does not have valid feature names, but RandomForestClassifier was fitted with feature names\n",
            "  warnings.warn(\n"
          ]
        },
        {
          "output_type": "stream",
          "name": "stdout",
          "text": [
            "eventing.coursera.org/redirectSigned/eyJrZXkiOiJlbWFpbC5saW5rLm9wZW4iLCJ2YWx1ZSI6eyJ1cmwiOiJodHRwczovL29ubGluZS5zdGFuZm9yZC5lZHUvd2hhdC15b3UtbmVlZC1rbm93LWFib3V0LW9ubGluZS1ncmFkdWF0ZS1jb3Vyc2VzP3V0bV9zb3VyY2U9Q291cnNlcmEmdXRtX21lZGl1bT1lbWFpbCZ1dG1fY2FtcGFpZ249V2ludGVyMjRfR3JhZEVucm9sbG1lbnQiLCJ0cmFja2luZyI6eyJ1c2VySWQiOjk1MTc3NDYzLCJ1c2VyRW1haWwiOiJrYXJhbmIxMzE0QGdtYWlsLmNvbSIsIm5vdGlmaWNhdGlvblR5cGUiOiJvcGVuY291cnNlLnRhcmdldGVkbWVzc2FnZXMubWFya2V0aW5nIiwiY2FtcGFpZ25JZCI6InBhcnRuZXIuMS5ib2lGS3RyZVR4YXZ2YTRYV1dDdzh3IiwiY2FtcGFpZ25Hcm91cCI6InBhcnRuZXIuMS5vcGVuY291cnNlLnRhcmdldGVkbWVzc2FnZXMubWFya2V0aW5nIiwibGlua3MiOltdfX0sInVzZXJJZCI6OTUxNzc0NjN9.PA-FbUAR44_u0bgoUzTIbSpqCtS4YDDKX4WZsssyUaI).: Benign\n",
            "None\n"
          ]
        },
        {
          "output_type": "stream",
          "name": "stderr",
          "text": [
            "/usr/local/lib/python3.10/dist-packages/sklearn/base.py:439: UserWarning: X does not have valid feature names, but RandomForestClassifier was fitted with feature names\n",
            "  warnings.warn(\n"
          ]
        },
        {
          "output_type": "stream",
          "name": "stdout",
          "text": [
            "eventing.coursera.org/redirectSigned/eyJrZXkiOiJlbWFpbC5saW5rLm9wZW4iLCJ2YWx1ZSI6eyJ1cmwiOiJodHRwczovL3d3dy55b3V0dWJlLmNvbS9Ac3RhbmZvcmRvbmxpbmUvcGxheWxpc3RzP3ZpZXc9NTAmc29ydD1kZCZzaGVsZl9pZD0zP3V0bV9zb3VyY2UlM0RDb3Vyc2VyYSZ1dG1fbWVkaXVtPWVtYWlsJnV0bV9jYW1wYWlnbj1XaW50ZXIyNF9HcmFkRW5yb2xsbWVudCZ1dG1fc291cmNlPW90aGVyIiwidHJhY2tpbmciOnsidXNlcklkIjo5NTE3NzQ2MywidXNlckVtYWlsIjoia2FyYW5iMTMxNEBnbWFpbC5jb20iLCJub3RpZmljYXRpb25UeXBlIjoib3BlbmNvdXJzZS50YXJnZXRlZG1lc3NhZ2VzLm1hcmtldGluZyIsImNhbXBhaWduSWQiOiJwYXJ0bmVyLjEuYm9pRkt0cmVUeGF2dmE0WFdXQ3c4dyIsImNhbXBhaWduR3JvdXAiOiJwYXJ0bmVyLjEub3BlbmNvdXJzZS50YXJnZXRlZG1lc3NhZ2VzLm1hcmtldGluZyIsImxpbmtzIjpbXX19LCJ1c2VySWQiOjk1MTc3NDYzfQ.oAVFT1uRXTA_-LhTMG1BTSL3xiIJ9Z77vaa3vJ4xdyQ).: Benign\n",
            "None\n"
          ]
        },
        {
          "output_type": "stream",
          "name": "stderr",
          "text": [
            "/usr/local/lib/python3.10/dist-packages/sklearn/base.py:439: UserWarning: X does not have valid feature names, but RandomForestClassifier was fitted with feature names\n",
            "  warnings.warn(\n"
          ]
        },
        {
          "output_type": "stream",
          "name": "stdout",
          "text": [
            "eventing.coursera.org/redirectSigned/eyJrZXkiOiJlbWFpbC5saW5rLm9wZW4iLCJ2YWx1ZSI6eyJ1cmwiOiJodHRwczovL29ubGluZS5zdGFuZm9yZC5lZHUvZXhwbG9yZT9maWx0ZXIlNUIwJTVEPWF2YWlsYWJpbGl0eTphdmFpbGFibGUmZmlsdGVyJTVCMSU1RD1jcmVkZW50aWFsczoxMTI0Jml0ZW1zX3Blcl9wYWdlPTEyJmtleXdvcmRzPSZ1dG1fc291cmNlPUNvdXJzZXJhJnV0bV9tZWRpdW09ZW1haWwmdXRtX2NhbXBhaWduPVdpbnRlcjI0X0dyYWRFbnJvbGxtZW50IiwidHJhY2tpbmciOnsidXNlcklkIjo5NTE3NzQ2MywidXNlckVtYWlsIjoia2FyYW5iMTMxNEBnbWFpbC5jb20iLCJub3RpZmljYXRpb25UeXBlIjoib3BlbmNvdXJzZS50YXJnZXRlZG1lc3NhZ2VzLm1hcmtldGluZyIsImNhbXBhaWduSWQiOiJwYXJ0bmVyLjEuYm9pRkt0cmVUeGF2dmE0WFdXQ3c4dyIsImNhbXBhaWduR3JvdXAiOiJwYXJ0bmVyLjEub3BlbmNvdXJzZS50YXJnZXRlZG1lc3NhZ2VzLm1hcmtldGluZyIsImxpbmtzIjpbXX19LCJ1c2VySWQiOjk1MTc3NDYzfQ.hvfFC5sxRmlKzXpoIO8OY-FUyr8UqabA-p8YhooY_S0): Benign\n",
            "None\n"
          ]
        },
        {
          "output_type": "stream",
          "name": "stderr",
          "text": [
            "/usr/local/lib/python3.10/dist-packages/sklearn/base.py:439: UserWarning: X does not have valid feature names, but RandomForestClassifier was fitted with feature names\n",
            "  warnings.warn(\n"
          ]
        },
        {
          "output_type": "stream",
          "name": "stdout",
          "text": [
            "eventing.coursera.org/redirectSigned/eyJrZXkiOiJlbWFpbC5saW5rLm9wZW4iLCJ2YWx1ZSI6eyJ1cmwiOiJodHRwczovL29ubGluZS5zdGFuZm9yZC5lZHUvY291cnNlcy9jczIyOS1tYWNoaW5lLWxlYXJuaW5nP3V0bV9zb3VyY2U9Q291cnNlcmEmdXRtX21lZGl1bT1lbWFpbCZ1dG1fY2FtcGFpZ249V2ludGVyMjRfR3JhZEVucm9sbG1lbnQiLCJ0cmFja2luZyI6eyJ1c2VySWQiOjk1MTc3NDYzLCJ1c2VyRW1haWwiOiJrYXJhbmIxMzE0QGdtYWlsLmNvbSIsIm5vdGlmaWNhdGlvblR5cGUiOiJvcGVuY291cnNlLnRhcmdldGVkbWVzc2FnZXMubWFya2V0aW5nIiwiY2FtcGFpZ25JZCI6InBhcnRuZXIuMS5ib2lGS3RyZVR4YXZ2YTRYV1dDdzh3IiwiY2FtcGFpZ25Hcm91cCI6InBhcnRuZXIuMS5vcGVuY291cnNlLnRhcmdldGVkbWVzc2FnZXMubWFya2V0aW5nIiwibGlua3MiOltdfX0sInVzZXJJZCI6OTUxNzc0NjN9.8m1k2jZDUHtW9TzooNAI_TxOUGNcHusNlTElou3zlYw): Benign\n",
            "None\n"
          ]
        },
        {
          "output_type": "stream",
          "name": "stderr",
          "text": [
            "/usr/local/lib/python3.10/dist-packages/sklearn/base.py:439: UserWarning: X does not have valid feature names, but RandomForestClassifier was fitted with feature names\n",
            "  warnings.warn(\n"
          ]
        },
        {
          "output_type": "stream",
          "name": "stdout",
          "text": [
            "eventing.coursera.org/redirectSigned/eyJrZXkiOiJlbWFpbC5saW5rLm9wZW4iLCJ2YWx1ZSI6eyJ1cmwiOiJodHRwczovL29ubGluZS5zdGFuZm9yZC5lZHUvY291cnNlcy9jczIyNG4tbmF0dXJhbC1sYW5ndWFnZS1wcm9jZXNzaW5nLWRlZXAtbGVhcm5pbmc_dXRtX3NvdXJjZT1Db3Vyc2VyYSZ1dG1fbWVkaXVtPWVtYWlsJnV0bV9jYW1wYWlnbj1XaW50ZXIyNF9HcmFkRW5yb2xsbWVudCIsInRyYWNraW5nIjp7InVzZXJJZCI6OTUxNzc0NjMsInVzZXJFbWFpbCI6ImthcmFuYjEzMTRAZ21haWwuY29tIiwibm90aWZpY2F0aW9uVHlwZSI6Im9wZW5jb3Vyc2UudGFyZ2V0ZWRtZXNzYWdlcy5tYXJrZXRpbmciLCJjYW1wYWlnbklkIjoicGFydG5lci4xLmJvaUZLdHJlVHhhdnZhNFhXV0N3OHciLCJjYW1wYWlnbkdyb3VwIjoicGFydG5lci4xLm9wZW5jb3Vyc2UudGFyZ2V0ZWRtZXNzYWdlcy5tYXJrZXRpbmciLCJsaW5rcyI6W119fSwidXNlcklkIjo5NTE3NzQ2M30.68gVTdmOl2FbUjl4equJ86FiIQGZQwRkbGTXCLrN-OM): Benign\n",
            "None\n"
          ]
        },
        {
          "output_type": "stream",
          "name": "stderr",
          "text": [
            "/usr/local/lib/python3.10/dist-packages/sklearn/base.py:439: UserWarning: X does not have valid feature names, but RandomForestClassifier was fitted with feature names\n",
            "  warnings.warn(\n"
          ]
        },
        {
          "output_type": "stream",
          "name": "stdout",
          "text": [
            "eventing.coursera.org/redirectSigned/eyJrZXkiOiJlbWFpbC5saW5rLm9wZW4iLCJ2YWx1ZSI6eyJ1cmwiOiJodHRwczovL29ubGluZS5zdGFuZm9yZC5lZHUvY291cnNlcy9jZWUyNTAtcHJvZHVjdC1tYW5hZ2VtZW50LWZ1bmRhbWVudGFscy1yZWFsLWVjb25vbXk_dXRtX3NvdXJjZT1Db3Vyc2VyYSZ1dG1fbWVkaXVtPWVtYWlsJnV0bV9jYW1wYWlnbj1XaW50ZXIyNF9HcmFkRW5yb2xsbWVudCIsInRyYWNraW5nIjp7InVzZXJJZCI6OTUxNzc0NjMsInVzZXJFbWFpbCI6ImthcmFuYjEzMTRAZ21haWwuY29tIiwibm90aWZpY2F0aW9uVHlwZSI6Im9wZW5jb3Vyc2UudGFyZ2V0ZWRtZXNzYWdlcy5tYXJrZXRpbmciLCJjYW1wYWlnbklkIjoicGFydG5lci4xLmJvaUZLdHJlVHhhdnZhNFhXV0N3OHciLCJjYW1wYWlnbkdyb3VwIjoicGFydG5lci4xLm9wZW5jb3Vyc2UudGFyZ2V0ZWRtZXNzYWdlcy5tYXJrZXRpbmciLCJsaW5rcyI6W119fSwidXNlcklkIjo5NTE3NzQ2M30.C-YznHozGKC88spbSnrZJBQkBqA8dljsT-fs-7vvTlk): Benign\n",
            "None\n"
          ]
        },
        {
          "output_type": "stream",
          "name": "stderr",
          "text": [
            "/usr/local/lib/python3.10/dist-packages/sklearn/base.py:439: UserWarning: X does not have valid feature names, but RandomForestClassifier was fitted with feature names\n",
            "  warnings.warn(\n"
          ]
        },
        {
          "output_type": "stream",
          "name": "stdout",
          "text": [
            "eventing.coursera.org/redirectSigned/eyJrZXkiOiJlbWFpbC5saW5rLm9wZW4iLCJ2YWx1ZSI6eyJ1cmwiOiJodHRwczovL2xlYXJuLnN0YW5mb3JkLmVkdS9RQS1Qcm9kdWN0TWFuYWdlbWVudC5odG1sP3V0bV9zb3VyY2U9Q291cnNlcmEmdXRtX21lZGl1bT1lbWFpbCZ1dG1fY2FtcGFpZ249V2ludGVyMjRfR3JhZEVucm9sbG1lbnQiLCJ0cmFja2luZyI6eyJ1c2VySWQiOjk1MTc3NDYzLCJ1c2VyRW1haWwiOiJrYXJhbmIxMzE0QGdtYWlsLmNvbSIsIm5vdGlmaWNhdGlvblR5cGUiOiJvcGVuY291cnNlLnRhcmdldGVkbWVzc2FnZXMubWFya2V0aW5nIiwiY2FtcGFpZ25JZCI6InBhcnRuZXIuMS5ib2lGS3RyZVR4YXZ2YTRYV1dDdzh3IiwiY2FtcGFpZ25Hcm91cCI6InBhcnRuZXIuMS5vcGVuY291cnNlLnRhcmdldGVkbWVzc2FnZXMubWFya2V0aW5nIiwibGlua3MiOltdfX0sInVzZXJJZCI6OTUxNzc0NjN9.KLAM0k3KgM-7fONOvNt6kFBeknhVOedZbT2-Ct-AXzo): Benign\n",
            "None\n"
          ]
        },
        {
          "output_type": "stream",
          "name": "stderr",
          "text": [
            "/usr/local/lib/python3.10/dist-packages/sklearn/base.py:439: UserWarning: X does not have valid feature names, but RandomForestClassifier was fitted with feature names\n",
            "  warnings.warn(\n"
          ]
        },
        {
          "output_type": "stream",
          "name": "stdout",
          "text": [
            "eventing.coursera.org/redirectSigned/eyJrZXkiOiJlbWFpbC5saW5rLm9wZW4iLCJ2YWx1ZSI6eyJ1cmwiOiJodHRwczovL2xlYXJuLnN0YW5mb3JkLmVkdS9ncmFkdWF0ZS1jb3Vyc2VzLUxQLmh0bWw_dXRtX3NvdXJjZT1Db3Vyc2VyYSZ1dG1fbWVkaXVtPWVtYWlsJnV0bV9jYW1wYWlnbj1XaW50ZXIyNF9HcmFkRW5yb2xsbWVudCIsInRyYWNraW5nIjp7InVzZXJJZCI6OTUxNzc0NjMsInVzZXJFbWFpbCI6ImthcmFuYjEzMTRAZ21haWwuY29tIiwibm90aWZpY2F0aW9uVHlwZSI6Im9wZW5jb3Vyc2UudGFyZ2V0ZWRtZXNzYWdlcy5tYXJrZXRpbmciLCJjYW1wYWlnbklkIjoicGFydG5lci4xLmJvaUZLdHJlVHhhdnZhNFhXV0N3OHciLCJjYW1wYWlnbkdyb3VwIjoicGFydG5lci4xLm9wZW5jb3Vyc2UudGFyZ2V0ZWRtZXNzYWdlcy5tYXJrZXRpbmciLCJsaW5rcyI6W119fSwidXNlcklkIjo5NTE3NzQ2M30.unVHUrLkeptUMQKQ6yLfzP2WrEhF77wrz_5cScnv_eQ): Benign\n",
            "None\n"
          ]
        },
        {
          "output_type": "stream",
          "name": "stderr",
          "text": [
            "/usr/local/lib/python3.10/dist-packages/sklearn/base.py:439: UserWarning: X does not have valid feature names, but RandomForestClassifier was fitted with feature names\n",
            "  warnings.warn(\n"
          ]
        },
        {
          "output_type": "stream",
          "name": "stdout",
          "text": [
            "eventing.coursera.org/redirectSigned/eyJrZXkiOiJlbWFpbC5saW5rLm9wZW4iLCJ2YWx1ZSI6eyJ1cmwiOiJodHRwczovL29ubGluZS5zdGFuZm9yZC5lZHUvP3V0bV9zb3VyY2U9Q291cnNlcmEmdXRtX21lZGl1bT1lbWFpbCZ1dG1fY2FtcGFpZ249V2ludGVyMjRfR3JhZEVucm9sbG1lbnQiLCJ0cmFja2luZyI6eyJ1c2VySWQiOjk1MTc3NDYzLCJ1c2VyRW1haWwiOiJrYXJhbmIxMzE0QGdtYWlsLmNvbSIsIm5vdGlmaWNhdGlvblR5cGUiOiJvcGVuY291cnNlLnRhcmdldGVkbWVzc2FnZXMubWFya2V0aW5nIiwiY2FtcGFpZ25JZCI6InBhcnRuZXIuMS5ib2lGS3RyZVR4YXZ2YTRYV1dDdzh3IiwiY2FtcGFpZ25Hcm91cCI6InBhcnRuZXIuMS5vcGVuY291cnNlLnRhcmdldGVkbWVzc2FnZXMubWFya2V0aW5nIiwibGlua3MiOltdfX0sInVzZXJJZCI6OTUxNzc0NjN9.3yeGAnZ75-k63h16MNeppR9gzbodoiU1L1sur0gnSEU): Benign\n",
            "None\n",
            "eventing.coursera.org/redirectSigned/eyJrZXkiOiJlbWFpbC5saW5rLm9wZW4iLCJ2YWx1ZSI6eyJ1cmwiOiJodHRwczovL3NjcGQuc3RhbmZvcmQuZWR1Lz91dG1fc291cmNlPUNvdXJzZXJhJnV0bV9tZWRpdW09ZW1haWwmdXRtX2NhbXBhaWduPVdpbnRlcjI0X0dyYWRFbnJvbGxtZW50IiwidHJhY2tpbmciOnsidXNlcklkIjo5NTE3NzQ2MywidXNlckVtYWlsIjoia2FyYW5iMTMxNEBnbWFpbC5jb20iLCJub3RpZmljYXRpb25UeXBlIjoib3BlbmNvdXJzZS50YXJnZXRlZG1lc3NhZ2VzLm1hcmtldGluZyIsImNhbXBhaWduSWQiOiJwYXJ0bmVyLjEuYm9pRkt0cmVUeGF2dmE0WFdXQ3c4dyIsImNhbXBhaWduR3JvdXAiOiJwYXJ0bmVyLjEub3BlbmNvdXJzZS50YXJnZXRlZG1lc3NhZ2VzLm1hcmtldGluZyIsImxpbmtzIjpbXX19LCJ1c2VySWQiOjk1MTc3NDYzfQ.AnZ57yBm-Db3hEBEbsjY7a24ezpesXbi2EdbkvVnjH4): Benign\n",
            "None\n",
            "None\n"
          ]
        },
        {
          "output_type": "stream",
          "name": "stderr",
          "text": [
            "/usr/local/lib/python3.10/dist-packages/sklearn/base.py:439: UserWarning: X does not have valid feature names, but RandomForestClassifier was fitted with feature names\n",
            "  warnings.warn(\n"
          ]
        }
      ]
    },
    {
      "cell_type": "code",
      "source": [],
      "metadata": {
        "id": "D5FschMM8QIY"
      },
      "execution_count": 16,
      "outputs": []
    }
  ],
  "metadata": {
    "colab": {
      "provenance": [],
      "mount_file_id": "1S20SVsATFFnt-Ln7dqTULEM59Ev9dMuD",
      "authorship_tag": "ABX9TyN3lpP0YvnB2QDt667CBcU9",
      "include_colab_link": true
    },
    "kernelspec": {
      "display_name": "Python 3",
      "name": "python3"
    },
    "language_info": {
      "name": "python"
    }
  },
  "nbformat": 4,
  "nbformat_minor": 0
}